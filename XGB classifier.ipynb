{
 "cells": [
  {
   "cell_type": "code",
   "execution_count": 1,
   "id": "3597a6c6-4b0d-4892-a710-6b364a436293",
   "metadata": {},
   "outputs": [
    {
     "name": "stdout",
     "output_type": "stream",
     "text": [
      "Collecting xgboost\n",
      "  Using cached xgboost-3.0.0-py3-none-win_amd64.whl.metadata (2.1 kB)\n",
      "Requirement already satisfied: numpy in c:\\users\\hi\\anaconda3\\lib\\site-packages (from xgboost) (1.26.4)\n",
      "Requirement already satisfied: scipy in c:\\users\\hi\\anaconda3\\lib\\site-packages (from xgboost) (1.13.1)\n",
      "Downloading xgboost-3.0.0-py3-none-win_amd64.whl (150.0 MB)\n",
      "   ---------------------------------------- 0.0/150.0 MB ? eta -:--:--\n",
      "   ---------------------------------------- 0.5/150.0 MB 5.6 MB/s eta 0:00:27\n",
      "   ---------------------------------------- 1.8/150.0 MB 5.3 MB/s eta 0:00:28\n",
      "    --------------------------------------- 3.1/150.0 MB 5.8 MB/s eta 0:00:26\n",
      "   - -------------------------------------- 4.5/150.0 MB 5.8 MB/s eta 0:00:25\n",
      "   - -------------------------------------- 5.8/150.0 MB 5.9 MB/s eta 0:00:25\n",
      "   - -------------------------------------- 7.3/150.0 MB 6.0 MB/s eta 0:00:24\n",
      "   -- ------------------------------------- 8.7/150.0 MB 6.0 MB/s eta 0:00:24\n",
      "   -- ------------------------------------- 9.4/150.0 MB 5.7 MB/s eta 0:00:25\n",
      "   -- ------------------------------------- 11.0/150.0 MB 5.8 MB/s eta 0:00:24\n",
      "   --- ------------------------------------ 11.5/150.0 MB 5.6 MB/s eta 0:00:25\n",
      "   --- ------------------------------------ 12.6/150.0 MB 5.4 MB/s eta 0:00:26\n",
      "   --- ------------------------------------ 13.4/150.0 MB 5.5 MB/s eta 0:00:25\n",
      "   ---- ----------------------------------- 15.2/150.0 MB 5.6 MB/s eta 0:00:25\n",
      "   ---- ----------------------------------- 16.0/150.0 MB 5.5 MB/s eta 0:00:25\n",
      "   ---- ----------------------------------- 16.5/150.0 MB 5.4 MB/s eta 0:00:25\n",
      "   ---- ----------------------------------- 18.1/150.0 MB 5.4 MB/s eta 0:00:25\n",
      "   ----- ---------------------------------- 20.2/150.0 MB 5.6 MB/s eta 0:00:24\n",
      "   ----- ---------------------------------- 21.2/150.0 MB 5.6 MB/s eta 0:00:24\n",
      "   ------ --------------------------------- 22.5/150.0 MB 5.6 MB/s eta 0:00:23\n",
      "   ------ --------------------------------- 24.9/150.0 MB 5.9 MB/s eta 0:00:22\n",
      "   ------- -------------------------------- 26.7/150.0 MB 6.0 MB/s eta 0:00:21\n",
      "   ------- -------------------------------- 28.0/150.0 MB 6.1 MB/s eta 0:00:21\n",
      "   -------- ------------------------------- 30.4/150.0 MB 6.2 MB/s eta 0:00:20\n",
      "   -------- ------------------------------- 32.8/150.0 MB 6.4 MB/s eta 0:00:19\n",
      "   --------- ------------------------------ 34.1/150.0 MB 6.4 MB/s eta 0:00:19\n",
      "   --------- ------------------------------ 35.4/150.0 MB 6.5 MB/s eta 0:00:18\n",
      "   ---------- ----------------------------- 38.3/150.0 MB 6.7 MB/s eta 0:00:17\n",
      "   ---------- ----------------------------- 40.1/150.0 MB 6.7 MB/s eta 0:00:17\n",
      "   ----------- ---------------------------- 41.9/150.0 MB 6.9 MB/s eta 0:00:16\n",
      "   ----------- ---------------------------- 44.6/150.0 MB 7.0 MB/s eta 0:00:16\n",
      "   ------------ --------------------------- 46.1/150.0 MB 7.0 MB/s eta 0:00:15\n",
      "   ------------ --------------------------- 48.2/150.0 MB 7.1 MB/s eta 0:00:15\n",
      "   ------------- -------------------------- 50.9/150.0 MB 7.2 MB/s eta 0:00:14\n",
      "   ------------- -------------------------- 51.6/150.0 MB 7.1 MB/s eta 0:00:14\n",
      "   -------------- ------------------------- 53.7/150.0 MB 7.2 MB/s eta 0:00:14\n",
      "   --------------- ------------------------ 56.6/150.0 MB 7.4 MB/s eta 0:00:13\n",
      "   --------------- ------------------------ 59.2/150.0 MB 7.4 MB/s eta 0:00:13\n",
      "   ---------------- ----------------------- 61.1/150.0 MB 7.5 MB/s eta 0:00:12\n",
      "   ---------------- ----------------------- 63.2/150.0 MB 7.6 MB/s eta 0:00:12\n",
      "   ----------------- ---------------------- 65.3/150.0 MB 7.7 MB/s eta 0:00:12\n",
      "   ------------------ --------------------- 68.2/150.0 MB 7.7 MB/s eta 0:00:11\n",
      "   ------------------ --------------------- 69.5/150.0 MB 7.8 MB/s eta 0:00:11\n",
      "   ------------------- -------------------- 72.1/150.0 MB 7.8 MB/s eta 0:00:11\n",
      "   ------------------- -------------------- 74.4/150.0 MB 7.9 MB/s eta 0:00:10\n",
      "   -------------------- ------------------- 76.8/150.0 MB 8.0 MB/s eta 0:00:10\n",
      "   -------------------- ------------------- 77.6/150.0 MB 8.0 MB/s eta 0:00:10\n",
      "   ---------------------- ----------------- 82.8/150.0 MB 8.2 MB/s eta 0:00:09\n",
      "   ---------------------- ----------------- 84.1/150.0 MB 8.1 MB/s eta 0:00:09\n",
      "   ----------------------- ---------------- 87.8/150.0 MB 8.3 MB/s eta 0:00:08\n",
      "   ------------------------ --------------- 90.4/150.0 MB 8.4 MB/s eta 0:00:08\n",
      "   ------------------------- -------------- 93.8/150.0 MB 8.5 MB/s eta 0:00:07\n",
      "   ------------------------- -------------- 97.0/150.0 MB 8.6 MB/s eta 0:00:07\n",
      "   -------------------------- ------------- 98.8/150.0 MB 8.6 MB/s eta 0:00:06\n",
      "   --------------------------- ------------ 101.7/150.0 MB 8.7 MB/s eta 0:00:06\n",
      "   ---------------------------- ----------- 105.1/150.0 MB 8.9 MB/s eta 0:00:06\n",
      "   ---------------------------- ----------- 108.0/150.0 MB 8.9 MB/s eta 0:00:05\n",
      "   ----------------------------- ---------- 110.1/150.0 MB 9.0 MB/s eta 0:00:05\n",
      "   ------------------------------ --------- 114.0/150.0 MB 9.1 MB/s eta 0:00:04\n",
      "   ------------------------------- -------- 117.2/150.0 MB 9.2 MB/s eta 0:00:04\n",
      "   ------------------------------- -------- 118.5/150.0 MB 9.2 MB/s eta 0:00:04\n",
      "   -------------------------------- ------- 120.3/150.0 MB 9.1 MB/s eta 0:00:04\n",
      "   -------------------------------- ------- 122.7/150.0 MB 9.2 MB/s eta 0:00:03\n",
      "   --------------------------------- ------ 126.1/150.0 MB 9.3 MB/s eta 0:00:03\n",
      "   ---------------------------------- ----- 130.0/150.0 MB 9.4 MB/s eta 0:00:03\n",
      "   ----------------------------------- ---- 131.3/150.0 MB 9.4 MB/s eta 0:00:02\n",
      "   ----------------------------------- ---- 134.2/150.0 MB 9.4 MB/s eta 0:00:02\n",
      "   ------------------------------------ --- 135.8/150.0 MB 9.4 MB/s eta 0:00:02\n",
      "   ------------------------------------- -- 139.5/150.0 MB 9.5 MB/s eta 0:00:02\n",
      "   ------------------------------------- -- 141.0/150.0 MB 9.5 MB/s eta 0:00:01\n",
      "   -------------------------------------- - 144.4/150.0 MB 9.5 MB/s eta 0:00:01\n",
      "   -------------------------------------- - 144.4/150.0 MB 9.5 MB/s eta 0:00:01\n",
      "   ---------------------------------------  148.6/150.0 MB 9.5 MB/s eta 0:00:01\n",
      "   ---------------------------------------  149.9/150.0 MB 9.6 MB/s eta 0:00:01\n",
      "   ---------------------------------------  149.9/150.0 MB 9.6 MB/s eta 0:00:01\n",
      "   ---------------------------------------  149.9/150.0 MB 9.6 MB/s eta 0:00:01\n",
      "   ---------------------------------------  149.9/150.0 MB 9.6 MB/s eta 0:00:01\n",
      "   ---------------------------------------- 150.0/150.0 MB 9.0 MB/s eta 0:00:00\n",
      "Installing collected packages: xgboost\n",
      "Successfully installed xgboost-3.0.0\n",
      "Note: you may need to restart the kernel to use updated packages.\n"
     ]
    }
   ],
   "source": [
    "pip install xgboost"
   ]
  },
  {
   "cell_type": "code",
   "execution_count": 2,
   "id": "f52d94fe-37d5-4584-b7aa-bb05954278f9",
   "metadata": {},
   "outputs": [],
   "source": [
    "import pandas as pd\n",
    "import numpy as np\n",
    "from sklearn.model_selection import train_test_split,StratifiedKFold,GridSearchCV\n",
    "from sklearn.metrics import classification_report,confusion_matrix,roc_auc_score\n",
    "from sklearn.preprocessing import StandardScaler\n",
    "from xgboost import XGBClassifier"
   ]
  },
  {
   "cell_type": "code",
   "execution_count": 3,
   "id": "d4ce902e-2ee8-4337-86bc-9fd41abd02e8",
   "metadata": {},
   "outputs": [
    {
     "data": {
      "text/html": [
       "<div>\n",
       "<style scoped>\n",
       "    .dataframe tbody tr th:only-of-type {\n",
       "        vertical-align: middle;\n",
       "    }\n",
       "\n",
       "    .dataframe tbody tr th {\n",
       "        vertical-align: top;\n",
       "    }\n",
       "\n",
       "    .dataframe thead th {\n",
       "        text-align: right;\n",
       "    }\n",
       "</style>\n",
       "<table border=\"1\" class=\"dataframe\">\n",
       "  <thead>\n",
       "    <tr style=\"text-align: right;\">\n",
       "      <th></th>\n",
       "      <th>preg</th>\n",
       "      <th>plas</th>\n",
       "      <th>pres</th>\n",
       "      <th>skin</th>\n",
       "      <th>test</th>\n",
       "      <th>mass</th>\n",
       "      <th>pedi</th>\n",
       "      <th>age</th>\n",
       "      <th>class</th>\n",
       "    </tr>\n",
       "  </thead>\n",
       "  <tbody>\n",
       "    <tr>\n",
       "      <th>0</th>\n",
       "      <td>6</td>\n",
       "      <td>148</td>\n",
       "      <td>72</td>\n",
       "      <td>35</td>\n",
       "      <td>0</td>\n",
       "      <td>33.6</td>\n",
       "      <td>0.627</td>\n",
       "      <td>50</td>\n",
       "      <td>1</td>\n",
       "    </tr>\n",
       "    <tr>\n",
       "      <th>1</th>\n",
       "      <td>1</td>\n",
       "      <td>85</td>\n",
       "      <td>66</td>\n",
       "      <td>29</td>\n",
       "      <td>0</td>\n",
       "      <td>26.6</td>\n",
       "      <td>0.351</td>\n",
       "      <td>31</td>\n",
       "      <td>0</td>\n",
       "    </tr>\n",
       "    <tr>\n",
       "      <th>2</th>\n",
       "      <td>8</td>\n",
       "      <td>183</td>\n",
       "      <td>64</td>\n",
       "      <td>0</td>\n",
       "      <td>0</td>\n",
       "      <td>23.3</td>\n",
       "      <td>0.672</td>\n",
       "      <td>32</td>\n",
       "      <td>1</td>\n",
       "    </tr>\n",
       "    <tr>\n",
       "      <th>3</th>\n",
       "      <td>1</td>\n",
       "      <td>89</td>\n",
       "      <td>66</td>\n",
       "      <td>23</td>\n",
       "      <td>94</td>\n",
       "      <td>28.1</td>\n",
       "      <td>0.167</td>\n",
       "      <td>21</td>\n",
       "      <td>0</td>\n",
       "    </tr>\n",
       "    <tr>\n",
       "      <th>4</th>\n",
       "      <td>0</td>\n",
       "      <td>137</td>\n",
       "      <td>40</td>\n",
       "      <td>35</td>\n",
       "      <td>168</td>\n",
       "      <td>43.1</td>\n",
       "      <td>2.288</td>\n",
       "      <td>33</td>\n",
       "      <td>1</td>\n",
       "    </tr>\n",
       "    <tr>\n",
       "      <th>...</th>\n",
       "      <td>...</td>\n",
       "      <td>...</td>\n",
       "      <td>...</td>\n",
       "      <td>...</td>\n",
       "      <td>...</td>\n",
       "      <td>...</td>\n",
       "      <td>...</td>\n",
       "      <td>...</td>\n",
       "      <td>...</td>\n",
       "    </tr>\n",
       "    <tr>\n",
       "      <th>763</th>\n",
       "      <td>10</td>\n",
       "      <td>101</td>\n",
       "      <td>76</td>\n",
       "      <td>48</td>\n",
       "      <td>180</td>\n",
       "      <td>32.9</td>\n",
       "      <td>0.171</td>\n",
       "      <td>63</td>\n",
       "      <td>0</td>\n",
       "    </tr>\n",
       "    <tr>\n",
       "      <th>764</th>\n",
       "      <td>2</td>\n",
       "      <td>122</td>\n",
       "      <td>70</td>\n",
       "      <td>27</td>\n",
       "      <td>0</td>\n",
       "      <td>36.8</td>\n",
       "      <td>0.340</td>\n",
       "      <td>27</td>\n",
       "      <td>0</td>\n",
       "    </tr>\n",
       "    <tr>\n",
       "      <th>765</th>\n",
       "      <td>5</td>\n",
       "      <td>121</td>\n",
       "      <td>72</td>\n",
       "      <td>23</td>\n",
       "      <td>112</td>\n",
       "      <td>26.2</td>\n",
       "      <td>0.245</td>\n",
       "      <td>30</td>\n",
       "      <td>0</td>\n",
       "    </tr>\n",
       "    <tr>\n",
       "      <th>766</th>\n",
       "      <td>1</td>\n",
       "      <td>126</td>\n",
       "      <td>60</td>\n",
       "      <td>0</td>\n",
       "      <td>0</td>\n",
       "      <td>30.1</td>\n",
       "      <td>0.349</td>\n",
       "      <td>47</td>\n",
       "      <td>1</td>\n",
       "    </tr>\n",
       "    <tr>\n",
       "      <th>767</th>\n",
       "      <td>1</td>\n",
       "      <td>93</td>\n",
       "      <td>70</td>\n",
       "      <td>31</td>\n",
       "      <td>0</td>\n",
       "      <td>30.4</td>\n",
       "      <td>0.315</td>\n",
       "      <td>23</td>\n",
       "      <td>0</td>\n",
       "    </tr>\n",
       "  </tbody>\n",
       "</table>\n",
       "<p>768 rows × 9 columns</p>\n",
       "</div>"
      ],
      "text/plain": [
       "     preg  plas  pres  skin  test  mass   pedi  age  class\n",
       "0       6   148    72    35     0  33.6  0.627   50      1\n",
       "1       1    85    66    29     0  26.6  0.351   31      0\n",
       "2       8   183    64     0     0  23.3  0.672   32      1\n",
       "3       1    89    66    23    94  28.1  0.167   21      0\n",
       "4       0   137    40    35   168  43.1  2.288   33      1\n",
       "..    ...   ...   ...   ...   ...   ...    ...  ...    ...\n",
       "763    10   101    76    48   180  32.9  0.171   63      0\n",
       "764     2   122    70    27     0  36.8  0.340   27      0\n",
       "765     5   121    72    23   112  26.2  0.245   30      0\n",
       "766     1   126    60     0     0  30.1  0.349   47      1\n",
       "767     1    93    70    31     0  30.4  0.315   23      0\n",
       "\n",
       "[768 rows x 9 columns]"
      ]
     },
     "execution_count": 3,
     "metadata": {},
     "output_type": "execute_result"
    }
   ],
   "source": [
    "df=pd.read_csv('diabetes.csv')\n",
    "df"
   ]
  },
  {
   "cell_type": "code",
   "execution_count": 4,
   "id": "fd6cd6f1-4e53-48ef-b6d8-6ba14bddad04",
   "metadata": {},
   "outputs": [],
   "source": [
    "X = df.drop('class',axis = 1)\n",
    "y = df['class']\n",
    "X_train,X_test,y_train,y_test = train_test_split(X,y,test_size = 0.8,random_state = 42)"
   ]
  },
  {
   "cell_type": "code",
   "execution_count": 17,
   "id": "e6021692-58b0-43ee-9d69-0bf597a21f5a",
   "metadata": {},
   "outputs": [
    {
     "name": "stdout",
     "output_type": "stream",
     "text": [
      "[[ 0.59862596 -0.76861084 -0.77711838 ...  0.25118909 -0.17352778\n",
      "   0.85907489]\n",
      " [-0.59472612 -0.33202521  0.29121402 ...  0.50247478 -1.00422008\n",
      "  -1.07126295]\n",
      " [-0.59472612 -0.45676396 -0.40005989 ... -0.22181929 -0.97476291\n",
      "  -1.07126295]\n",
      " ...\n",
      " [ 0.89696398 -0.26965583 -0.40005989 ... -0.72439068  0.71607886\n",
      "   0.06939123]\n",
      " [-1.19140216 -0.11373239 -0.27437372 ...  0.96070164 -0.67724545\n",
      "  -0.98352032]\n",
      " [-0.2963881  -0.20728646 -4.42201718 ... -1.30086963 -0.8893371\n",
      "  -0.89577769]]\n",
      "--------------------------------------------\n",
      "[[ 1.79197804 -1.48585867  0.7311156  ...  0.1477185  -0.66546258\n",
      "   0.42036175]\n",
      " [ 0.89696398  0.44759199  1.23386027 ... -0.04444115 -0.28841076\n",
      "   0.50810437]\n",
      " [-0.2963881   1.10247045 -0.40005989 ... -0.16269324 -0.57119963\n",
      "  -0.80803506]\n",
      " ...\n",
      " [ 1.79197804 -0.67505678  0.98248793 ...  1.96584443  1.90614868\n",
      "   0.42036175]\n",
      " [-1.19140216  0.57233075 -4.42201718 ...  1.49283606 -0.83631419\n",
      "  -0.36932192]\n",
      " [-1.19140216  0.07337574  1.61091876 ... -1.44868475 -0.6684083\n",
      "  -1.07126295]]\n"
     ]
    }
   ],
   "source": [
    "scaler=StandardScaler()\n",
    "X_train_scaled=scaler.fit_transform(X_train)\n",
    "X_test_scaled=scaler.transform(X_test)\n",
    "print(X_test_scaled)\n",
    "print(\"--------------------------------------------\")\n",
    "print(X_train_scaled)"
   ]
  },
  {
   "cell_type": "code",
   "execution_count": 13,
   "id": "369f4fb1-fc81-406c-8bab-aedc6fd41024",
   "metadata": {},
   "outputs": [],
   "source": [
    "xgb = XGBClassifier(use_label_encoder = False,  eval_metric = 'logloss', random_state = 42)\n",
    "\n",
    "param_grid = {\n",
    "    'n_estimators': [100, 150, 200, 300],\n",
    "    'learning_rate': [0.01, 0.1, 0.15],\n",
    "    'max_depth': [2,3, 4, 5],\n",
    "    'subsample': [0.8, 1.0],\n",
    "    'colsample_bytree': [0.8,1.0]\n",
    "}\n",
    "skf=StratifiedKFold(n_splits=5,shuffle=True,random_state=42)\n",
    "grid_search=GridSearchCV(estimator=xgb,\n",
    "                         param_grid=param_grid,\n",
    "                         scoring='recall',\n",
    "                         cv=skf,\n",
    "                         verbose=1,\n",
    "                         n_jobs=-1)"
   ]
  },
  {
   "cell_type": "code",
   "execution_count": 15,
   "id": "4cd04307-a5bc-48e2-94dd-8fedd5afd68a",
   "metadata": {},
   "outputs": [
    {
     "name": "stdout",
     "output_type": "stream",
     "text": [
      "Fitting 5 folds for each of 192 candidates, totalling 960 fits\n",
      "Best Parameters: {'colsample_bytree': 0.8, 'learning_rate': 0.1, 'max_depth': 2, 'n_estimators': 150, 'subsample': 1.0}\n",
      "Best Cross-Validated Recall: 0.6257575757575757\n"
     ]
    },
    {
     "name": "stderr",
     "output_type": "stream",
     "text": [
      "C:\\Users\\hi\\anaconda3\\Lib\\site-packages\\xgboost\\training.py:183: UserWarning: [10:13:09] WARNING: C:\\actions-runner\\_work\\xgboost\\xgboost\\src\\learner.cc:738: \n",
      "Parameters: { \"use_label_encoder\" } are not used.\n",
      "\n",
      "  bst.update(dtrain, iteration=i, fobj=obj)\n"
     ]
    }
   ],
   "source": [
    "grid_search.fit(X_train_scaled,y_train)\n",
    "best_model=grid_search.best_estimator_\n",
    "print(\"Best Parameters:\",grid_search.best_params_)\n",
    "print(\"Best Cross-Validated Recall:\",grid_search.best_score_)\n",
    "y_pred=best_model.predict(X_test_scaled)"
   ]
  },
  {
   "cell_type": "code",
   "execution_count": 19,
   "id": "8ec60a46-5ad9-4d19-8c30-c7f30c65f991",
   "metadata": {},
   "outputs": [
    {
     "name": "stdout",
     "output_type": "stream",
     "text": [
      "\n",
      "Confusion Matrix:\n",
      " [[328  77]\n",
      " [ 79 131]]\n",
      "\n",
      "Classification Report:\n",
      "               precision    recall  f1-score   support\n",
      "\n",
      "           0       0.81      0.81      0.81       405\n",
      "           1       0.63      0.62      0.63       210\n",
      "\n",
      "    accuracy                           0.75       615\n",
      "   macro avg       0.72      0.72      0.72       615\n",
      "weighted avg       0.75      0.75      0.75       615\n",
      "\n"
     ]
    }
   ],
   "source": [
    "print(\"\\nConfusion Matrix:\\n\", confusion_matrix(y_test,y_pred))\n",
    "print(\"\\nClassification Report:\\n\",classification_report(y_test,y_pred))"
   ]
  },
  {
   "cell_type": "markdown",
   "id": "d1928146-778c-457e-81e3-d19b89ba40e2",
   "metadata": {},
   "source": [
    "#### Identify feature importance scores using XGBClassifier"
   ]
  },
  {
   "cell_type": "code",
   "execution_count": 21,
   "id": "ee137ade-418a-408b-a2c0-81a7f58000bc",
   "metadata": {},
   "outputs": [
    {
     "data": {
      "text/plain": [
       "array([0.06926996, 0.21269408, 0.06446119, 0.08271457, 0.13993882,\n",
       "       0.16163525, 0.09235562, 0.1769305 ], dtype=float32)"
      ]
     },
     "execution_count": 21,
     "metadata": {},
     "output_type": "execute_result"
    }
   ],
   "source": [
    "best_model.feature_importances_"
   ]
  },
  {
   "cell_type": "code",
   "execution_count": 24,
   "id": "1d1e6375-4bcf-4e77-a303-5fb4feb3750b",
   "metadata": {},
   "outputs": [],
   "source": [
    "features=pd.DataFrame(best_model.feature_importances_,index=df.iloc[:,:-1].columns,columns=[\"Importances\"])\n",
    "df1=features.sort_values(by=\"Importances\")"
   ]
  },
  {
   "cell_type": "code",
   "execution_count": 26,
   "id": "eb365b3d-4193-46a6-b8c3-73e556c7deea",
   "metadata": {},
   "outputs": [
    {
     "data": {
      "text/plain": [
       "<Axes: xlabel='None', ylabel='Importances'>"
      ]
     },
     "execution_count": 26,
     "metadata": {},
     "output_type": "execute_result"
    },
    {
     "data": {
      "image/png": "[encoded data removed]",
      "text/plain": [
       "<Figure size 640x480 with 1 Axes>"
      ]
     },
     "metadata": {},
     "output_type": "display_data"
    }
   ],
   "source": [
    "import seaborn as sns\n",
    "sns.barplot(data=df1,x=features.index,y=\"Importances\",hue=features.index,palette=\"Set2\")"
   ]
  },
  {
   "cell_type": "code",
   "execution_count": null,
   "id": "f08b6f33-9c09-4d45-9830-a37c97afc3a9",
   "metadata": {},
   "outputs": [],
   "source": []
  }
 ],
 "metadata": {
  "kernelspec": {
   "display_name": "Python [conda env:base] *",
   "language": "python",
   "name": "conda-base-py"
  },
  "language_info": {
   "codemirror_mode": {
    "name": "ipython",
    "version": 3
   },
   "file_extension": ".py",
   "mimetype": "text/x-python",
   "name": "python",
   "nbconvert_exporter": "python",
   "pygments_lexer": "ipython3",
   "version": "3.12.7"
  }
 },
 "nbformat": 4,
 "nbformat_minor": 5
}
